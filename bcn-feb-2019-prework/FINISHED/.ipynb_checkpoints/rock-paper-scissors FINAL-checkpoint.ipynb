{
 "cells": [
  {
   "cell_type": "markdown",
   "metadata": {},
   "source": [
    "<img src=\"https://bit.ly/2VnXWr2\" width=\"100\" align=\"left\">"
   ]
  },
  {
   "cell_type": "markdown",
   "metadata": {},
   "source": [
    "# Rock, Paper & Scissors\n",
    "\n",
    "Let's play the famous game against our computer. You can check the rules [here](https://en.wikipedia.org/wiki/Rock%E2%80%93paper%E2%80%93scissors). \n",
    "\n",
    "## Task\n",
    "Create a program that imitates the playability of the well known game of rock, paper, scissors. Follow the guidelines provided.\n",
    "\n",
    "## Tools\n",
    "1. Loop: **for/while**\n",
    "2. Functions: **input(), print()...**\n",
    "3. Conditional statements: **if, elif, else**\n",
    "4. Definition of functions. Modular programming\n",
    "5. Import modules\n",
    "\n",
    "**To solve this challenge, the use of functions is recommended.**\n",
    "\n",
    "#### 1. Import the choice function of the random module."
   ]
  },
  {
   "cell_type": "code",
   "execution_count": 1,
   "metadata": {},
   "outputs": [],
   "source": [
    "import random\n",
    "from random import choice"
   ]
  },
  {
   "cell_type": "markdown",
   "metadata": {},
   "source": [
    "#### 2. Create a list that includes the 3 possible gesture options of the game: 'rock', 'paper' or 'scissors'. Store the list in a variable called `gestures`."
   ]
  },
  {
   "cell_type": "code",
   "execution_count": 2,
   "metadata": {},
   "outputs": [],
   "source": [
    "gestures = [\"rock\",\"paper\",\"scissors\"]"
   ]
  },
  {
   "cell_type": "markdown",
   "metadata": {},
   "source": [
    "#### 3. Create a variable called `n_rounds` to store the maximum number of rounds to play in a game. \n",
    "Remember that the number of rounds must be odd: 1, 3, 5, ..."
   ]
  },
  {
   "cell_type": "code",
   "execution_count": 3,
   "metadata": {},
   "outputs": [
    {
     "name": "stdout",
     "output_type": "stream",
     "text": [
      "How many rounds would you like to play? 3\n",
      "Lets play 3 rounds!\n"
     ]
    }
   ],
   "source": [
    "n_rounds = int(input(\"How many rounds would you like to play? \"))\n",
    "\n",
    "while n_rounds % 2 == 0 or n_rounds <= -1:\n",
    "    print(\"Number of rounds must be an odd number! Select an odd number!\")\n",
    "    n_rounds = input(\"How many rounds?\")\n",
    "    break\n",
    "print(\"Lets play\",n_rounds,\"rounds!\")"
   ]
  },
  {
   "cell_type": "markdown",
   "metadata": {},
   "source": [
    "##### 4. Create a variable called `rounds_to_win` to store the number of rounds that a player must win to win the game.\n",
    "**Hint**: the value stored in `rounds_to_win` depends on the value of `n_rounds`. "
   ]
  },
  {
   "cell_type": "code",
   "execution_count": 4,
   "metadata": {},
   "outputs": [
    {
     "name": "stdout",
     "output_type": "stream",
     "text": [
      "You must win 2 rounds to beat the game!\n"
     ]
    }
   ],
   "source": [
    "rounds_to_win = ((n_rounds + 1)//2)\n",
    "rounds_to_win = round(rounds_to_win)\n",
    "print(\"You must win\",rounds_to_win,\"rounds to beat the game!\")"
   ]
  },
  {
   "cell_type": "markdown",
   "metadata": {},
   "source": [
    "#### 5. Create two variables to store the number of rounds that the computer and the player have won. Call these variables `cpu_score` and `player_score`."
   ]
  },
  {
   "cell_type": "code",
   "execution_count": 5,
   "metadata": {},
   "outputs": [],
   "source": [
    "cpu_score = 0\n",
    "player_score = 0\n",
    "rounds = 0"
   ]
  },
  {
   "cell_type": "markdown",
   "metadata": {},
   "source": [
    "#### 6. Define a function that randomly returns one of the 3 gesture options.\n",
    "You will use this function to simulate the gesture choice of the computer. "
   ]
  },
  {
   "cell_type": "code",
   "execution_count": 6,
   "metadata": {},
   "outputs": [],
   "source": [
    "def computer_choice():\n",
    "    \"\"\"Movement made by the computer\"\"\"\n",
    "    comp = random.choice(gestures)   \n",
    "    return comp"
   ]
  },
  {
   "cell_type": "markdown",
   "metadata": {},
   "source": [
    "#### 7. Define a function that asks the player which is the gesture he or she wants to show: 'rock', 'paper' or 'scissors'.\n",
    "The player should only be allowed to choose one of the 3 gesture options. If the player's choice is not rock, paper or scissors, keep asking until it is."
   ]
  },
  {
   "cell_type": "code",
   "execution_count": 7,
   "metadata": {},
   "outputs": [],
   "source": [
    "def player_gesture():\n",
    "    \"\"\"Movement by player\"\"\"\n",
    "    player = input(\"Please select, rock, paper or scissors\")\n",
    "    if player not in gestures:\n",
    "        print(\"That's not an option! Please try again.\")\n",
    "        player = input(\"Please select, rock, paper or scissors\")  \n",
    "    return player"
   ]
  },
  {
   "cell_type": "markdown",
   "metadata": {},
   "source": [
    "#### 8. Define a function that checks who won a round. \n",
    "The function should return 0 if there is a tie, 1 if the computer wins and 2 if the player wins."
   ]
  },
  {
   "cell_type": "code",
   "execution_count": 8,
   "metadata": {},
   "outputs": [],
   "source": [
    "def who_won_round(comp, player):\n",
    "    '''Who is the winner of the round.'''\n",
    "    \n",
    "\n",
    "    winner = 0     \n",
    "        \n",
    "    if ((player == \"rock\") and (comp == \"paper\")) or \\\n",
    "            ((player == \"paper\") and (comp ==  \"scissors\")) or \\\n",
    "            ((player == \"scissors\") and (comp == \"rock\")):\n",
    "          winner = 1\n",
    "            \n",
    "    \n",
    "    elif ((comp == \"rock\") and (player == \"paper\")) or \\\n",
    "            ((comp == \"paper\") and (player == \"scissors\")) or \\\n",
    "            ((comp == \"scissors\") and (player == \"rock\")):\n",
    "          winner = 2\n",
    "    \n",
    "    else:\n",
    "        winner = 0\n",
    "    \n",
    "    return winner"
   ]
  },
  {
   "cell_type": "raw",
   "metadata": {},
   "source": [
    "#### 9. Define a function that prints the choice of the computer, the choice of the player and a message that announces who won the current round. \n",
    "You should also use this function to update the variables that count the number of rounds that the computer and the player have won. The score of the winner increases by one point. If there is a tie, the score does not increase."
   ]
  },
  {
   "cell_type": "code",
   "execution_count": 9,
   "metadata": {},
   "outputs": [],
   "source": [
    "def count_round(winner, player, comp):\n",
    "    \n",
    "    global cpu_score\n",
    "    global player_score\n",
    "    global rounds\n",
    "    \n",
    "    if winner == 0:\n",
    "        print(\"It's a tie!\")      \n",
    "        \n",
    "    elif winner == 1:\n",
    "        cpu_score = cpu_score + 1\n",
    "        rounds = rounds + 1\n",
    "        print(\"This is round:\",rounds)\n",
    "        print(\"The player chose\",player)\n",
    "        print(\"The computer chose\",comp)\n",
    "        print(\"The computer won the round!\")\n",
    "        print(\"The computer has won\",cpu_score,\"rounds!\")\n",
    "          \n",
    "    elif winner == 2:\n",
    "        player_score = player_score + 1\n",
    "        rounds = rounds + 1\n",
    "        print(\"This is round:\",rounds)\n",
    "        print(\"The player chose\",player)\n",
    "        print(\"The computer chose\",comp)\n",
    "        print(\"The player won the round!\")\n",
    "        print(\"The player has won\",player_score,\"rounds!\")\n",
    "\n"
   ]
  },
  {
   "cell_type": "markdown",
   "metadata": {},
   "source": [
    "#### 10. Now it's time to code the execution of the game using the functions and variables you defined above. \n",
    "\n",
    "First, create a loop structure that repeats while no player reaches the minimum score necessary to win and the number of rounds is less than the maximum number of rounds to play in a game.  \n",
    "\n",
    "Inside the loop, use the functions and variables above to create the execution of a round: ask for the player's choice, generate the random choice of the computer, show the round results, update the scores, etc. "
   ]
  },
  {
   "cell_type": "code",
   "execution_count": 10,
   "metadata": {},
   "outputs": [
    {
     "name": "stdout",
     "output_type": "stream",
     "text": [
      "Please select, rock, paper or scissorsrock\n",
      "This is round: 1\n",
      "The player chose rock\n",
      "The computer chose paper\n",
      "The computer won the round!\n",
      "The computer has won 1 rounds!\n",
      "Please select, rock, paper or scissorspaper\n",
      "This is round: 2\n",
      "The player chose paper\n",
      "The computer chose rock\n",
      "The player won the round!\n",
      "The player has won 1 rounds!\n",
      "Please select, rock, paper or scissorsscissors\n",
      "This is round: 3\n",
      "The player chose scissors\n",
      "The computer chose paper\n",
      "The player won the round!\n",
      "The player has won 2 rounds!\n"
     ]
    }
   ],
   "source": [
    "def game_structure():\n",
    "    while rounds_to_win < n_rounds:\n",
    "        global game_winner\n",
    "        comp = computer_choice()\n",
    "        player = player_gesture()\n",
    "        winner = who_won_round(comp,player)\n",
    "        counting = count_round(winner,player,comp)\n",
    "        if cpu_score == rounds_to_win:\n",
    "            game_winner = \"Computer\"\n",
    "            break\n",
    "        elif player_score == rounds_to_win:\n",
    "            game_winner = \"Player\"\n",
    "            break\n",
    "        elif rounds > rounds_to_win:\n",
    "            game_winner = \"no one, it's a tie! Boo!\"\n",
    "            break\n",
    "              \n",
    "game_structure()\n",
    "    "
   ]
  },
  {
   "cell_type": "markdown",
   "metadata": {},
   "source": [
    "#### 11. Print the winner of the game based on who won more rounds.\n",
    "Remember that the game might be tied. "
   ]
  },
  {
   "cell_type": "code",
   "execution_count": 11,
   "metadata": {},
   "outputs": [
    {
     "name": "stdout",
     "output_type": "stream",
     "text": [
      "This winner of the game is the Player !\n"
     ]
    }
   ],
   "source": [
    "print(\"This winner of the game is the\",game_winner,\"!\")\n"
   ]
  },
  {
   "cell_type": "markdown",
   "metadata": {},
   "source": [
    "# Bonus: Rock, Paper, Scissors, Lizard & Spock\n",
    "![](images/rpsls.jpg)\n",
    "\n",
    "In this challenge, you need to improve the previous game by adding two new options. To know more about the rules of the improved version of rock, paper, scissors, check this [link](http://www.samkass.com/theories/RPSSL.html). \n",
    "\n",
    "In addition, you will also need to improve how the game interacts with the player: the number of rounds to play, which must be an odd number, will be requested to the user until a valid number is entered. Define a new function to make that request.\n",
    "\n",
    "**Hint**: Try to reuse the code that you already coded in the previous challenge. If your code is efficient, this bonus will only consist of simple modifications to the original game."
   ]
  },
  {
   "cell_type": "code",
   "execution_count": 16,
   "metadata": {},
   "outputs": [
    {
     "name": "stdout",
     "output_type": "stream",
     "text": [
      "Welcome to Rock, Paper, Scissors, Spock or Lizard\n",
      "How many rounds would you like to play? 3\n",
      "Lets play 3 rounds!\n",
      "You must win 2 rounds to beat the game!\n",
      "Please select, rock, paper, scissors, spock or lizardrock\n",
      "This is round: 1\n",
      "The player chose rock\n",
      "The computer chose scissors\n",
      "The player won the round!\n",
      "The player has won 1 rounds!\n",
      "Please select, rock, paper, scissors, spock or lizardsock\n",
      "That's not an option! Please try again.\n",
      "Please select, rock, paper, scissors, spock or lizardspock\n",
      "This is round: 2\n",
      "The player chose spock\n",
      "The computer chose scissors\n",
      "The player won the round!\n",
      "The player has won 2 rounds!\n",
      "This winner of the game is the Player !\n"
     ]
    }
   ],
   "source": [
    "import random\n",
    "from random import choice\n",
    "\n",
    "gestures = [\"rock\",\"paper\",\"scissors\",\"lizard\",\"spock\"]\n",
    "\n",
    "print(\"Welcome to Rock, Paper, Scissors, Spock or Lizard\")\n",
    "\n",
    "n_rounds = int(input(\"How many rounds would you like to play? \"))\n",
    "\n",
    "while n_rounds % 2 == 0 or n_rounds <= -1:\n",
    "    print(\"Number of rounds must be an odd number! Select an odd number!\")\n",
    "    n_rounds = input(\"How many rounds?\")\n",
    "    break\n",
    "print(\"Lets play\",n_rounds,\"rounds!\")\n",
    "\n",
    "rounds_to_win = ((n_rounds + 1)//2)\n",
    "rounds_to_win = round(rounds_to_win)\n",
    "print(\"You must win\",rounds_to_win,\"rounds to beat the game!\")\n",
    "\n",
    "cpu_score = 0\n",
    "player_score = 0\n",
    "rounds = 0\n",
    "\n",
    "def computer_choice():\n",
    "    \"\"\"Movement made by the computer\"\"\"\n",
    "    comp = random.choice(gestures)   \n",
    "    return comp\n",
    "\n",
    "def player_gesture():\n",
    "    \"\"\"Movement by player\"\"\"\n",
    "    player = input(\"Please select, rock, paper, scissors, spock or lizard\")\n",
    "    player = player.lower()\n",
    "    if player not in gestures:\n",
    "        print(\"That's not an option! Please try again.\")\n",
    "        player = input(\"Please select, rock, paper, scissors, spock or lizard\")  \n",
    "        player = player.lower()\n",
    "    return player\n",
    "    \n",
    "def who_won_round(comp, player):\n",
    "    '''Who is the winner of the round.'''\n",
    "    \n",
    "    winner = 0     \n",
    "        \n",
    "    if ((player == \"rock\") and (comp == \"paper\" or comp == \"spock\")) or \\\n",
    "            ((player == \"paper\") and (comp ==  \"scissors\" or comp == \"lizard\")) or \\\n",
    "            ((player == \"scissors\") and (comp == \"spock\" or comp == \"rock\")) or \\\n",
    "            ((player == \"spock\") and (comp == \"lizard\" or comp == \"paper\")) or \\\n",
    "            ((player == \"lizard\") and (comp == \"scissors\" or comp == \"rock\")):\n",
    "          winner = 1\n",
    "            \n",
    "    \n",
    "    elif ((comp == \"rock\") and (player == \"paper\" or player == \"spock\")) or \\\n",
    "            ((comp == \"paper\") and (player ==  \"scissors\" or player == \"lizard\")) or \\\n",
    "            ((comp == \"scissors\") and (player == \"spock\" or player == \"rock\")) or \\\n",
    "            ((comp == \"spock\") and (player == \"lizard\" or player == \"paper\")) or \\\n",
    "            ((comp == \"lizard\") and (player == \"scissors\" or player == \"rock\")):\n",
    "          winner = 2\n",
    "    \n",
    "    else:\n",
    "        winner = 0\n",
    "    \n",
    "    return winner\n",
    "    \n",
    "def count_round(winner, player, comp):\n",
    "    \n",
    "    global cpu_score\n",
    "    global player_score\n",
    "    global rounds\n",
    "    \n",
    "    if winner == 0:\n",
    "        print(\"It's a tie!\")      \n",
    "        \n",
    "    elif winner == 1:\n",
    "        cpu_score = cpu_score + 1\n",
    "        rounds = rounds + 1\n",
    "        print(\"This is round:\",rounds)\n",
    "        print(\"The player chose\",player)\n",
    "        print(\"The computer chose\",comp)\n",
    "        print(\"The computer won the round!\")\n",
    "        print(\"The computer has won\",cpu_score,\"rounds!\")\n",
    "          \n",
    "    elif winner == 2:\n",
    "        player_score = player_score + 1\n",
    "        rounds = rounds + 1\n",
    "        print(\"This is round:\",rounds)\n",
    "        print(\"The player chose\",player)\n",
    "        print(\"The computer chose\",comp)\n",
    "        print(\"The player won the round!\")\n",
    "        print(\"The player has won\",player_score,\"rounds!\")\n",
    "\n",
    "def game_structure():\n",
    "    while rounds_to_win < n_rounds:\n",
    "        global game_winner\n",
    "        comp = computer_choice()\n",
    "        player = player_gesture()\n",
    "        winner = who_won_round(comp,player)\n",
    "        counting = count_round(winner,player,comp)\n",
    "        if cpu_score == rounds_to_win:\n",
    "            game_winner = \"Computer\"\n",
    "            break\n",
    "        elif player_score == rounds_to_win:\n",
    "            game_winner = \"Player\"\n",
    "            break\n",
    "        elif rounds > rounds_to_win:\n",
    "            game_winner = \"no one, it's a tie! Boo!\"\n",
    "            break\n",
    "              \n",
    "game_structure()\n",
    "\n",
    "print(\"This winner of the game is the\",game_winner,\"!\")\n"
   ]
  },
  {
   "cell_type": "code",
   "execution_count": null,
   "metadata": {},
   "outputs": [],
   "source": []
  }
 ],
 "metadata": {
  "kernelspec": {
   "display_name": "Python 3",
   "language": "python",
   "name": "python3"
  },
  "language_info": {
   "codemirror_mode": {
    "name": "ipython",
    "version": 3
   },
   "file_extension": ".py",
   "mimetype": "text/x-python",
   "name": "python",
   "nbconvert_exporter": "python",
   "pygments_lexer": "ipython3",
   "version": "3.7.4"
  }
 },
 "nbformat": 4,
 "nbformat_minor": 4
}
